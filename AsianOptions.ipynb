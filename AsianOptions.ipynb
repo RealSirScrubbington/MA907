{
 "cells": [
  {
   "cell_type": "markdown",
   "id": "e8343ee7",
   "metadata": {},
   "source": [
    "# Part 1: Methods for Asian Options"
   ]
  },
  {
   "cell_type": "markdown",
   "id": "35f922ce",
   "metadata": {},
   "source": [
    "In this Jupyter notebook we consider an Asian option with the following payoff:\n",
    "\n",
    "$\\max( \\frac{1}{N}\\sum \\limits _{n=1} ^{N} S_n - K, 0)$\n",
    "\n",
    "where $S_n$ are daily closing prices of the underlying and $K$ is the fixed strike price. This option in particular is referred to as a Fixed Strike Asian Call Option with Discrete Arithmetic Average."
   ]
  },
  {
   "cell_type": "markdown",
   "id": "0caf0e90",
   "metadata": {},
   "source": [
    "An Asian option is an option contract where the payoff is based on the average price of the underlying asset over a predetermined period of time. This type of option is useful for investors looking to hedge their positions against changes in the underlying asset price over a long period of time. Asian options are typically used for hedging against currency fluctuations or interest rate changes."
   ]
  },
  {
   "cell_type": "markdown",
   "id": "4c1c9225",
   "metadata": {},
   "source": [
    "To describe the underlying process, we use the geometric Brownian motion:\n",
    "\n",
    "$dS_t = rS_tdt + \\sigma(S_t,t)S_tdW_t$\n",
    "\n",
    "where the local volatility, $\\sigma$ is given by $\\sigma(S,t) = \\sigma_0(1+\\sigma_1\\cos(2\\pi t))(1+\\sigma_2\\exp(-S/50))$\n",
    "\n",
    "where $\\sigma_0 = 0.2$, $\\sigma_1 = 0.3$ ,and $\\sigma_2 = 0.5$ with the time $t$ being given in years."
   ]
  },
  {
   "cell_type": "markdown",
   "id": "96705b7c",
   "metadata": {},
   "source": [
    "This Brownian motion allows for the possibility that the volatility can depend on the current time $t$ and current value of underlying asset $S_t$\n",
    "\n",
    "Unless otherwise specified we will use the following parameters:\n",
    "\n",
    "- The strike price $K$ is 110\n",
    "- The interest rate $r$ is 0.05\n",
    "- There are 260 working days in a year\n",
    "- The number of sample paths $N_{paths}$ is 1000"
   ]
  },
  {
   "cell_type": "markdown",
   "id": "d2b8c0fa",
   "metadata": {},
   "source": [
    "We investigate how to price Asian option by Monte-Carlo simulations by employing different variance reduction techniques. These include:\n",
    "\n",
    "- A function without variance reduction (naive method)\n",
    "- A function utilizing the antithetic variance reduction\n",
    "- Several functions using different control variates"
   ]
  },
  {
   "cell_type": "code",
   "execution_count": 1,
   "id": "4e5c4aaf",
   "metadata": {},
   "outputs": [],
   "source": [
    "# Import libraries necessary for plotting graphs and performing calculations\n",
    "import numpy as np\n",
    "import matplotlib.pyplot as plt\n",
    "from scipy.stats import norm, gmean\n",
    "import tabulate\n",
    "import time"
   ]
  },
  {
   "cell_type": "code",
   "execution_count": 2,
   "id": "d6a03021",
   "metadata": {},
   "outputs": [],
   "source": [
    "# construct random generator \n",
    "rng = np.random.default_rng(12345)"
   ]
  },
  {
   "cell_type": "code",
   "execution_count": 3,
   "id": "f148d22b",
   "metadata": {},
   "outputs": [],
   "source": [
    "# Program the local volatility equation\n",
    "\n",
    "def volatility(S,t,sigma_0):\n",
    "    \n",
    "    # function to compute and return the local volatility\n",
    "    \n",
    "    sigma = sigma_0*(1+0.3*np.cos(2*np.pi*t))*(1+0.5*np.exp(-S/50))\n",
    "\n",
    "    return sigma"
   ]
  },
  {
   "cell_type": "markdown",
   "id": "e4128cc6",
   "metadata": {},
   "source": [
    "# Naive method to price an Asian option"
   ]
  },
  {
   "cell_type": "markdown",
   "id": "494af34f",
   "metadata": {},
   "source": [
    "It is naive to price an Asian option without variance reduction techniques because this method does not take into account the potential volatility of the underlying asset. This means that the option value will not be accurate and could result in a loss for the investor. Additionally, this method does not consider the time value of money, which means that the option value will not reflect the changing market conditions."
   ]
  },
  {
   "cell_type": "code",
   "execution_count": 4,
   "id": "3bd2a2e5",
   "metadata": {},
   "outputs": [],
   "source": [
    "# Program the timestepping function for the Naive method to price an Asian option\n",
    "\n",
    "def SDE_timestepper(S0, T, r, sigma_0, Npaths):\n",
    "    \n",
    "    # Simulate GBM paths\n",
    "    # returns the time array and the paths\n",
    "    \n",
    "    # Use a time step of 1 day assuming 260 days/year\n",
    "    Nsteps = int(260 * T)\n",
    "    \n",
    "    t, dt = np.linspace(0, T, Nsteps + 1, retstep=True)\n",
    "    S = np.zeros((Nsteps+1, Npaths))\n",
    "    \n",
    "    # Time step starting from initial condition\n",
    "    S[0,:] = S0  \n",
    "    for n in range(Nsteps):\n",
    "        dW = np.sqrt(dt) * rng.normal(0,1,Npaths)\n",
    "        S[n+1,:] = S[n,:] * (1. + r*dt + volatility(S[n,:],t[n],sigma_0) * dW[:])\n",
    "\n",
    "    return t, S"
   ]
  },
  {
   "cell_type": "code",
   "execution_count": 5,
   "id": "4ce66207",
   "metadata": {},
   "outputs": [],
   "source": [
    "def SDE_asian_call_vol(S0, K, T, r, sigma_0, Npaths):\n",
    "    \n",
    "    # Record time\n",
    "    \n",
    "    start_time = time.time()\n",
    "    \n",
    "    # price Asian call option by simulating GBM paths\n",
    "    # returns the price and variance\n",
    "    \n",
    "    t, S = SDE_timestepper(S0, T, r, sigma_0, Npaths)\n",
    "    \n",
    "    # discounted payoff for Asian call\n",
    "    fS = np.exp(-r*T)*np.maximum(np.mean(S,axis=0) - K, 0)\n",
    "\n",
    "    price = np.mean(fS)\n",
    "    variance = np.var(fS)\n",
    "    \n",
    "    # Compute time taken of function\n",
    "    \n",
    "    Naive_time = time.time() - start_time\n",
    "    \n",
    "    return price, variance, Naive_time"
   ]
  },
  {
   "cell_type": "markdown",
   "id": "919217df",
   "metadata": {},
   "source": [
    "# Antithetic variance reduction method to price an Asian option"
   ]
  },
  {
   "cell_type": "markdown",
   "id": "94adab32",
   "metadata": {},
   "source": [
    "This method involves taking the average of two opposite positions in the underlying asset and using that average to calculate the option value. This method reduces the variance of the option value by taking into account the potential volatility of the underlying asset."
   ]
  },
  {
   "cell_type": "code",
   "execution_count": 6,
   "id": "b3dfc979",
   "metadata": {},
   "outputs": [],
   "source": [
    "def SDE_timestepper_ant(S0, T, r, sigma_0, Npaths):\n",
    "    \n",
    "    # simulate GBM paths\n",
    "    # with antithetic variance reduction\n",
    "    # returns time array and paths\n",
    "    \n",
    "    # Use a time step of 1 day assuming 260 days/year\n",
    "    Nsteps = int(260 * T)\n",
    "    \n",
    "    t, dt = np.linspace(0, T, Nsteps + 1, retstep=True)\n",
    "    Sp = np.zeros((Nsteps+1, Npaths))\n",
    "    Sm = np.zeros((Nsteps+1, Npaths))\n",
    "    \n",
    "    # Time step starting from initial condition\n",
    "    Sp[0,:] = S0 \n",
    "    Sm[0,:] = S0 \n",
    "    for n in range(Nsteps):\n",
    "        dW = np.sqrt(dt) * rng.normal(0,1,Npaths)\n",
    "        Sp[n+1,:] = Sp[n,:] * (1. + r*dt + volatility(Sp[n,:],t[n],sigma_0) * dW[:])\n",
    "        Sm[n+1,:] = Sm[n,:] * (1. + r*dt - volatility(Sm[n,:],t[n],sigma_0) * dW[:])\n",
    "\n",
    "    return t, Sp, Sm"
   ]
  },
  {
   "cell_type": "code",
   "execution_count": 7,
   "id": "5d0b44ac",
   "metadata": {},
   "outputs": [],
   "source": [
    "def SDE_asian_call_volant(S0, K, T, r, sigma_0, Npaths):\n",
    "    \n",
    "    # Record time\n",
    "    \n",
    "    start_time = time.time()\n",
    "        \n",
    "    t, Sp, Sm = SDE_timestepper_ant(S0, T, r, sigma_0, Npaths)\n",
    "    \n",
    "    # discounted payoffs based on Sp, Sm at final time\n",
    "    fSp = np.exp(-r*T)*np.maximum(np.mean(Sp,axis=0)-K,0)\n",
    "    fSm = np.exp(-r*T)*np.maximum(np.mean(Sm,axis=0)-K,0)\n",
    "    \n",
    "    # compute and return price and variance\n",
    "    Z = (fSp + fSm)/2\n",
    "    price = np.mean(Z)\n",
    "    variance = np.var(Z)\n",
    "    \n",
    "    # Compute time taken of function\n",
    "    \n",
    "    Ant_time = time.time() - start_time\n",
    "    \n",
    "    return price, variance, Ant_time"
   ]
  },
  {
   "cell_type": "markdown",
   "id": "e17dedc7",
   "metadata": {},
   "source": [
    "# Pricing an Asian option using control variates"
   ]
  },
  {
   "cell_type": "markdown",
   "id": "0122fb51",
   "metadata": {},
   "source": [
    "This method involves taking a linear combination of two or more random variables, such as the underlying asset price and a benchmark option, and then using that linear combination to calculate the option value. The expected value of the option is estimated by using a control variate, such as a European option with the same underlying assets and time to maturity. "
   ]
  },
  {
   "cell_type": "markdown",
   "id": "2d45f859",
   "metadata": {},
   "source": [
    "We begin by defining our timestepping function to generate both $Z_t$ and $S_t$; where $Z_t$ is governed by geometric Brownian motion:\n",
    "\n",
    "$dZ_t = rZ_tdt + \\bar{\\sigma}Z_tdW_t$\n",
    "\n",
    "where $r$ and $\\bar{\\sigma}$ are constant. In particular, we denote the constant-volatitility $\\bar{\\sigma}$ by $\\sigma(S_0,0)$ as it is the very first value the local-volatility takes at time $t = 0$."
   ]
  },
  {
   "cell_type": "code",
   "execution_count": 8,
   "id": "07ae2726",
   "metadata": {},
   "outputs": [],
   "source": [
    "def SDE_control_timestepper(S0, T, r, sigma_0, Npaths):\n",
    "    \n",
    "    # Simulate GBM paths\n",
    "    # returns the time array and the paths\n",
    "    \n",
    "    # Use a time step of 1 day assuming 260 days/year\n",
    "    Nsteps = int(260 * T)\n",
    "    \n",
    "    t, dt = np.linspace(0, T, Nsteps + 1, retstep=True)\n",
    "    S = np.zeros((Nsteps+1, Npaths))\n",
    "    Z = np.zeros((Nsteps+1, Npaths))\n",
    "    \n",
    "    # Time step starting from initial condition\n",
    "    S[0,:] = S0  \n",
    "    Z[0,:] = S0\n",
    "    for n in range(Nsteps):\n",
    "        dW = np.sqrt(dt) * rng.normal(0,1,Npaths)\n",
    "        S[n+1,:] = S[n,:] * (1. + r*dt + volatility(S[n,:], t[n], sigma_0) * dW[:])\n",
    "        Z[n+1,:] = Z[n,:] * (1. + r*dt + volatility(S[0,:], 0, sigma_0) * dW[:])\n",
    "\n",
    "    return t, S, Z"
   ]
  },
  {
   "cell_type": "markdown",
   "id": "7ebe5364",
   "metadata": {},
   "source": [
    "We program the function using the first control variate of just $Z_T$ at the final time. This has a known expectation."
   ]
  },
  {
   "cell_type": "code",
   "execution_count": 9,
   "id": "effaa498",
   "metadata": {},
   "outputs": [],
   "source": [
    "def SDE_control_variate_1(S0, K, T, r, sigma_0, Npaths):\n",
    "    \n",
    "    # Record time\n",
    "    \n",
    "    start_time = time.time()\n",
    "    \n",
    "    t, S, Z = SDE_control_timestepper(S0, T, r, sigma_0, Npaths)\n",
    "    \n",
    "    # Compute mean and variance using equations from lecture slides\n",
    "\n",
    "    mean_ST = S[0,:]*np.exp(r*T)\n",
    "    var_ST = (mean_ST**2)*(np.exp((volatility(S[0,:],0,sigma_0)**2*T))-1)\n",
    "    \n",
    "    # Discounted payoff for Asian call\n",
    "    \n",
    "    fST = np.exp(-r*T)*np.maximum(np.mean(S,axis=0) - K, 0)\n",
    "    \n",
    "    # Calculate covariance and hence the constant c \n",
    "    \n",
    "    cov_fST_ST = np.mean(fST*Z[-1,:]) - np.mean(fST)*np.mean(Z[-1,:])\n",
    "    c = cov_fST_ST/var_ST\n",
    "    \n",
    "    # Compute f_c\n",
    "    \n",
    "    f_c = fST-c*(Z[-1,:]-mean_ST)\n",
    "    \n",
    "    # Compute and return the price and variance\n",
    "    \n",
    "    price = np.mean(f_c)\n",
    "    variance = np.var(f_c)\n",
    "    \n",
    "    # Compute time taken of function\n",
    "    \n",
    "    cv1_time = time.time() - start_time\n",
    "    \n",
    "    return price, variance, cv1_time"
   ]
  },
  {
   "cell_type": "markdown",
   "id": "3f27fe52",
   "metadata": {},
   "source": [
    "We program the function using the second control variate $e^{-rT}\\max(Z_T-K,0)$ which happens to be the discounted payoff for a  European call option, and hence the expectation is given by the Black-Scholes formula."
   ]
  },
  {
   "cell_type": "code",
   "execution_count": 10,
   "id": "d1453098",
   "metadata": {},
   "outputs": [],
   "source": [
    "# Define Black-Scholes call function to give the expectation of the discoutned payoff for a European call option\n",
    "\n",
    "def BS_call(S0, K, T, r, sigma_0):\n",
    "    \n",
    "    t, S, Z = SDE_control_timestepper(S0, T, r, sigma_0, Npaths)\n",
    "    \n",
    "    d1 = (np.log(S[0,:]/K) + (r + volatility(S[0,:], 0, sigma_0)**2 /2) * T)/(volatility(S[0,:], 0, sigma_0)*np.sqrt(T))\n",
    "    d2 = d1 - volatility(S[0,:], 0, sigma_0) * np.sqrt(T)\n",
    "    return S[0,:] * norm.cdf(d1) - K * np.exp(-r*T) * norm.cdf(d2)\n"
   ]
  },
  {
   "cell_type": "code",
   "execution_count": 11,
   "id": "02c7c51d",
   "metadata": {},
   "outputs": [],
   "source": [
    "def SDE_control_variate_2(S0, K, T, r, sigma_0, Npaths):\n",
    "    \n",
    "    # Record time\n",
    "    \n",
    "    start_time = time.time()\n",
    "    \n",
    "    t, S, Z = SDE_control_timestepper(S0, T, r, sigma_0, Npaths)\n",
    "    \n",
    "    # Compute expectation of discounted payoff for a European call option using the Black-Scholes formula\n",
    "    \n",
    "    mean_ST = BS_call(S0, K, T, r, sigma_0)\n",
    "    \n",
    "    # Discounted payoff for Asian call and control variate\n",
    "    \n",
    "    fST = np.exp(-r*T)*np.maximum(np.mean(S,axis=0) - K, 0)\n",
    "    fZT = np.exp(-r*T)*np.maximum(Z[-1,:] - K, 0)\n",
    "    \n",
    "    # Compute covariance\n",
    "    \n",
    "    var_ST = np.var(fZT)\n",
    "    cov_fST_fZT = np.mean(fST*fZT) - np.mean(fST)*np.mean(fZT)\n",
    "    \n",
    "    # Put in if loop to avoid instances of 0 variance which cause a division error in the computation of the constant c\n",
    "    \n",
    "    if var_ST == 0:\n",
    "        c = 0\n",
    "    else:\n",
    "        c = cov_fST_fZT/var_ST\n",
    "    \n",
    "    # Compute f_c\n",
    "    \n",
    "    f_c = fST-c*(fZT - mean_ST)\n",
    "    \n",
    "    # Compute and return price and variance\n",
    "    \n",
    "    price = np.mean(f_c)\n",
    "    variance = np.var(f_c)\n",
    "    \n",
    "    # Compute time taken of function\n",
    "    \n",
    "    cv2_time = time.time() - start_time\n",
    "    \n",
    "    return price, variance, cv2_time"
   ]
  },
  {
   "cell_type": "markdown",
   "id": "e0ef6c14",
   "metadata": {},
   "source": [
    "We program the function using the third control variate $\\max((\\prod_{n=0}^{N}Z_n)^{\\frac{1}{N+1}}-K,0)$ which is the discounted payoff for a geometrically averaged Asian option, for which there is also a formula for the expectation:\n",
    "\n",
    "$Z_0\\exp((r_g-r)T)N(d_1)-K\\exp(-rT)N(d_2)$\n",
    "\n",
    "where $N()$ is the cumulative distribution function of the standard normal distribution and the other variables are defined in the code below:"
   ]
  },
  {
   "cell_type": "code",
   "execution_count": 12,
   "id": "479c638c",
   "metadata": {},
   "outputs": [],
   "source": [
    "def SDE_control_variate_3(S0, K, T, r, sigma_0, Npaths):\n",
    "    \n",
    "    # Record time\n",
    "    \n",
    "    start_time =  time.time()\n",
    "    \n",
    "    t, S, Z = SDE_control_timestepper(S0, T, r, sigma_0, Npaths)\n",
    "    \n",
    "    Nsteps = int(260 * T)\n",
    "    \n",
    "    #define variables to compute expectation of the discounted payoff for a geometrically averaged Asian option\n",
    "    \n",
    "    vol_g = volatility(S[0,:], 0, sigma_0)*np.sqrt((2*Nsteps+1)/(6*(Nsteps+1)))\n",
    "    r_g = 0.5*(r-0.5*vol_g**2)\n",
    "    d1 = (np.log(S0/K)+(r_g+0.5*vol_g**2)*T)/(vol_g*np.sqrt(T))\n",
    "    d2 = d1 - vol_g*np.sqrt(T)\n",
    "    mean_fZT = S0*np.exp((r_g-r)*T)*norm.cdf(d1) - K*np.exp(-r*T)*norm.cdf(d2)\n",
    "    \n",
    "    # Discounted payoff for Asian call and control variate as well as computation of the variance\n",
    "    \n",
    "    fZT = np.exp(-r*T)*np.maximum(gmean(Z, axis=0) - K, 0)\n",
    "    var_fZT = np.var(fZT)\n",
    "    fS = np.exp(-r*T)*np.maximum(np.mean(S, axis=0) - K, 0)\n",
    "    \n",
    "    # Compute covariance and add an if loop to avoid division error to successfully compute the constant c\n",
    "    \n",
    "    cov_fST_ZT = np.mean(fS*fZT) - np.mean(fS)*np.mean(fZT)\n",
    "    \n",
    "    if var_fZT == 0:\n",
    "        c = 0\n",
    "    else:\n",
    "        c = cov_fST_ZT/var_fZT\n",
    "    f_c = fS-c*(fZT-mean_fZT)\n",
    "    \n",
    "    # Compute and return the price and variance\n",
    "    \n",
    "    price = np.mean(f_c)\n",
    "    variance = np.var(f_c)\n",
    "    \n",
    "    # Compute time taken of function\n",
    "    \n",
    "    cv3_time = time.time() - start_time\n",
    "    \n",
    "    return price, variance, cv3_time"
   ]
  },
  {
   "cell_type": "markdown",
   "id": "d7a4e698",
   "metadata": {},
   "source": [
    "# Analysis of results"
   ]
  },
  {
   "cell_type": "markdown",
   "id": "dfa320f7",
   "metadata": {},
   "source": [
    "Here we price the options at different intial values of spot price $S_0 = S(t=0)$ with the time fixed to maturity and obtain 95% confidence intervals for each case."
   ]
  },
  {
   "cell_type": "code",
   "execution_count": 13,
   "id": "5964d274",
   "metadata": {},
   "outputs": [],
   "source": [
    "# Set parameters\n",
    "\n",
    "K= 110\n",
    "T=3\n",
    "r=0.05\n",
    "sigma_0=0.2\n",
    "Npaths=1000"
   ]
  },
  {
   "cell_type": "code",
   "execution_count": 14,
   "id": "1e3ce92c",
   "metadata": {},
   "outputs": [
    {
     "name": "stdout",
     "output_type": "stream",
     "text": [
      "Naive price =  2.6184 +/- 0.46\n",
      "Antithetic MC price is  2.0631 +/- 0.28\n",
      "Control Variate 1 price =  2.3947 +/- 0.32\n",
      "control variate 2 price =  2.4377 +/- 0.29\n",
      "control variate 3 price =  2.3608 +/- 0.12\n"
     ]
    }
   ],
   "source": [
    "# Compute prices, variances, and confidence intervals using initial spot price S = 85\n",
    "\n",
    "SDE_price_1, SDE_var_1, _ = SDE_asian_call_vol(85, K, T, r, sigma_0, Npaths)\n",
    "SEM_1 = np.sqrt(SDE_var_1/Npaths)\n",
    "print(\"Naive price = \", round(SDE_price_1,4), \"+/-\", format(1.96*SEM_1,'.2g'))\n",
    "\n",
    "SDE_price_ant_1, SDE_var_ant_1, _ = SDE_asian_call_volant(85,K,T,r,sigma_0,Npaths)\n",
    "SEM_ant_1 = np.sqrt(SDE_var_ant_1/Npaths)\n",
    "print(\"Antithetic MC price is \", '{0:.5g}'.format(SDE_price_ant_1), \"+/-\", '{0:.2g}'.format(1.96*SEM_ant_1) )\n",
    "\n",
    "SDE_control_1_price_1, SDE_control_1_var_1, _ = SDE_control_variate_1(85, K, T, r, sigma_0, Npaths)\n",
    "SEM_cv1_1 = np.sqrt(SDE_control_1_var_1/Npaths)\n",
    "print(\"Control Variate 1 price = \", round(SDE_control_1_price_1,4), \"+/-\", format(1.96*SEM_cv1_1,'.2g'))\n",
    "\n",
    "SDE_control_2_price_1, SDE_control_2_var_1, _ = SDE_control_variate_2(85, K, T, r, sigma_0, Npaths)\n",
    "SEM_cv2_1 = np.sqrt(SDE_control_2_var_1/Npaths)\n",
    "print(\"control variate 2 price = \", round(SDE_control_2_price_1,4), \"+/-\", format(1.96*SEM_cv2_1,'.2g'))\n",
    "\n",
    "SDE_control_3_price_1, SDE_control_3_var_1, _ = SDE_control_variate_3(85, K, T, r, sigma_0, Npaths)\n",
    "SEM_cv3_1 = np.sqrt(SDE_control_3_var_1/Npaths)\n",
    "print(\"control variate 3 price = \", round(SDE_control_3_price_1,4), \"+/-\", format(1.96*SEM_cv3_1,'.2g'))"
   ]
  },
  {
   "cell_type": "code",
   "execution_count": 15,
   "id": "ffd39d94",
   "metadata": {},
   "outputs": [
    {
     "name": "stdout",
     "output_type": "stream",
     "text": [
      "Naive price =  11.6281 +/- 1\n",
      "Antithetic MC price is  12.82 +/- 0.51\n",
      "Control Variate 1 price =  12.6171 +/- 0.61\n",
      "control variate 2 price =  12.2192 +/- 0.64\n",
      "control variate 3 price =  12.8016 +/- 0.28\n"
     ]
    }
   ],
   "source": [
    "# Compute prices, variances, and confidence intervals using initial spot price S = 110\n",
    "\n",
    "SDE_price_2, SDE_var_2, _ = SDE_asian_call_vol(110, K, T, r, sigma_0, Npaths)\n",
    "SEM_2 = np.sqrt(SDE_var_2/Npaths)\n",
    "print(\"Naive price = \", round(SDE_price_2,4), \"+/-\", format(1.96*SEM_2,'.2g'))\n",
    "\n",
    "SDE_price_ant_2, SDE_var_ant_2, _ = SDE_asian_call_volant(110,K,T,r,sigma_0,Npaths)\n",
    "SEM_ant_2 = np.sqrt(SDE_var_ant_2/Npaths)\n",
    "print(\"Antithetic MC price is \", '{0:.5g}'.format(SDE_price_ant_2), \"+/-\", '{0:.2g}'.format(1.96*SEM_ant_2) )\n",
    "\n",
    "SDE_control_1_price_2, SDE_control_1_var_2, _ = SDE_control_variate_1(110, K, T, r, sigma_0, Npaths)\n",
    "SEM_cv1_2 = np.sqrt(SDE_control_1_var_2/Npaths)\n",
    "print(\"Control Variate 1 price = \", round(SDE_control_1_price_2,4), \"+/-\", format(1.96*SEM_cv1_2,'.2g'))\n",
    "\n",
    "SDE_control_2_price_2, SDE_control_2_var_2, _ = SDE_control_variate_2(110, K, T, r, sigma_0, Npaths)\n",
    "SEM_cv2_2 = np.sqrt(SDE_control_2_var_2/Npaths)\n",
    "print(\"control variate 2 price = \", round(SDE_control_2_price_2,4), \"+/-\", format(1.96*SEM_cv2_2,'.2g'))\n",
    "\n",
    "SDE_control_3_price_2, SDE_control_3_var_2, _ = SDE_control_variate_3(110, K, T, r, sigma_0, Npaths)\n",
    "SEM_cv3_2 = np.sqrt(SDE_control_3_var_2/Npaths)\n",
    "print(\"control variate 3 price = \", round(SDE_control_3_price_2,4), \"+/-\", format(1.96*SEM_cv3_2,'.2g'))"
   ]
  },
  {
   "cell_type": "code",
   "execution_count": 16,
   "id": "6fc355ec",
   "metadata": {},
   "outputs": [
    {
     "name": "stdout",
     "output_type": "stream",
     "text": [
      "Naive price =  31.0698 +/- 1.6\n",
      "Antithetic MC price is  31.733 +/- 0.48\n",
      "Control Variate 1 price =  32.1611 +/- 0.91\n",
      "control variate 2 price =  32.4008 +/- 0.94\n",
      "control variate 3 price =  31.7386 +/- 0.37\n"
     ]
    }
   ],
   "source": [
    "# Compute prices, variances, and confidence intervals using initial spot price S = 135\n",
    "\n",
    "SDE_price_3, SDE_var_3, _ = SDE_asian_call_vol(135, K, T, r, sigma_0, Npaths)\n",
    "SEM_3 = np.sqrt(SDE_var_3/Npaths)\n",
    "print(\"Naive price = \", round(SDE_price_3,4), \"+/-\", format(1.96*SEM_3,'.2g'))\n",
    "\n",
    "SDE_price_ant_3, SDE_var_ant_3, _ = SDE_asian_call_volant(135,K,T,r,sigma_0,Npaths)\n",
    "SEM_ant_3 = np.sqrt(SDE_var_ant_3/Npaths)\n",
    "print(\"Antithetic MC price is \", '{0:.5g}'.format(SDE_price_ant_3), \"+/-\", '{0:.2g}'.format(1.96*SEM_ant_3) )\n",
    "\n",
    "SDE_control_1_price_3, SDE_control_1_var_3, _ = SDE_control_variate_1(135, K, T, r, sigma_0, Npaths)\n",
    "SEM_cv1_3 = np.sqrt(SDE_control_1_var_3/Npaths)\n",
    "print(\"Control Variate 1 price = \", round(SDE_control_1_price_3,4), \"+/-\", format(1.96*SEM_cv1_3,'.2g'))\n",
    "\n",
    "SDE_control_2_price_3, SDE_control_2_var_3, _ = SDE_control_variate_2(135, K, T, r, sigma_0, Npaths)\n",
    "SEM_cv2_3 = np.sqrt(SDE_control_2_var_3/Npaths)\n",
    "print(\"control variate 2 price = \", round(SDE_control_2_price_3,4), \"+/-\", format(1.96*SEM_cv2_3,'.2g'))\n",
    "\n",
    "SDE_control_3_price_3, SDE_control_3_var_3, _ = SDE_control_variate_3(135, K, T, r, sigma_0, Npaths)\n",
    "SEM_cv3_3 = np.sqrt(SDE_control_3_var_3/Npaths)\n",
    "print(\"control variate 3 price = \", round(SDE_control_3_price_3,4), \"+/-\", format(1.96*SEM_cv3_3,'.2g'))"
   ]
  },
  {
   "cell_type": "markdown",
   "id": "93e401b5",
   "metadata": {},
   "source": [
    "Here we notice that the variance of the antithetic method is getting rather close to the variance of the method using control variate 3 so we shall set up another initial spot price of S = 160 to investigate this further."
   ]
  },
  {
   "cell_type": "code",
   "execution_count": 17,
   "id": "df8dd9ec",
   "metadata": {},
   "outputs": [
    {
     "name": "stdout",
     "output_type": "stream",
     "text": [
      "Naive price =  53.6529 +/- 2\n",
      "Antithetic MC price is  54.009 +/- 0.39\n",
      "Control Variate 1 price =  53.6962 +/- 1.1\n",
      "control variate 2 price =  54.1617 +/- 1.2\n",
      "control variate 3 price =  53.7234 +/- 0.44\n"
     ]
    }
   ],
   "source": [
    "# Compute prices, variances, and confidence intervals using initial spot price S = 160\n",
    "\n",
    "SDE_price_4, SDE_var_4, _ = SDE_asian_call_vol(160, K, T, r, sigma_0, Npaths)\n",
    "SEM_4 = np.sqrt(SDE_var_4/Npaths)\n",
    "print(\"Naive price = \", round(SDE_price_4,4), \"+/-\", format(1.96*SEM_4,'.2g'))\n",
    "\n",
    "SDE_price_ant_4, SDE_var_ant_4, _ = SDE_asian_call_volant(160,K,T,r,sigma_0,Npaths)\n",
    "SEM_ant_4 = np.sqrt(SDE_var_ant_4/Npaths)\n",
    "print(\"Antithetic MC price is \", '{0:.5g}'.format(SDE_price_ant_4), \"+/-\", '{0:.2g}'.format(1.96*SEM_ant_4) )\n",
    "\n",
    "SDE_control_1_price_4, SDE_control_1_var_4, _ = SDE_control_variate_1(160, K, T, r, sigma_0, Npaths)\n",
    "SEM_cv1_4 = np.sqrt(SDE_control_1_var_4/Npaths)\n",
    "print(\"Control Variate 1 price = \", round(SDE_control_1_price_4,4), \"+/-\", format(1.96*SEM_cv1_4,'.2g'))\n",
    "\n",
    "SDE_control_2_price_4, SDE_control_2_var_4, _ = SDE_control_variate_2(160, K, T, r, sigma_0, Npaths)\n",
    "SEM_cv2_4 = np.sqrt(SDE_control_2_var_4/Npaths)\n",
    "print(\"control variate 2 price = \", round(SDE_control_2_price_4,4), \"+/-\", format(1.96*SEM_cv2_4,'.2g'))\n",
    "\n",
    "SDE_control_3_price_4, SDE_control_3_var_4, _ = SDE_control_variate_3(160, K, T, r, sigma_0, Npaths)\n",
    "SEM_cv3_4 = np.sqrt(SDE_control_3_var_4/Npaths)\n",
    "print(\"control variate 3 price = \", round(SDE_control_3_price_4,4), \"+/-\", format(1.96*SEM_cv3_4,'.2g'))"
   ]
  },
  {
   "cell_type": "markdown",
   "id": "b396facb",
   "metadata": {},
   "source": [
    "Here we notice that the variance of the method using control variate 3 is now larger than that of the antithetic method. Henceforth, for large initial spot prices of around >140, it is more accurate to use the antithetic method rather than the method with control variate 3."
   ]
  },
  {
   "cell_type": "code",
   "execution_count": 18,
   "id": "9a2a89be",
   "metadata": {},
   "outputs": [
    {
     "data": {
      "text/html": [
       "<table>\n",
       "<thead>\n",
       "<tr><th>                         </th><th style=\"text-align: right;\">   Price</th><th style=\"text-align: right;\">  Variance</th><th style=\"text-align: right;\">  95% confidence interval (+-)</th></tr>\n",
       "</thead>\n",
       "<tbody>\n",
       "<tr><td>Naive S = 85             </td><td style=\"text-align: right;\"> 2.61839</td><td style=\"text-align: right;\">  53.9613 </td><td style=\"text-align: right;\">                      0.4553  </td></tr>\n",
       "<tr><td>Naive S = 110            </td><td style=\"text-align: right;\">11.6281 </td><td style=\"text-align: right;\"> 279.434  </td><td style=\"text-align: right;\">                      1.03608 </td></tr>\n",
       "<tr><td>Naive S = 135            </td><td style=\"text-align: right;\">31.0698 </td><td style=\"text-align: right;\"> 644.287  </td><td style=\"text-align: right;\">                      1.57324 </td></tr>\n",
       "<tr><td>Naive S = 160            </td><td style=\"text-align: right;\">53.6529 </td><td style=\"text-align: right;\"> 990.441  </td><td style=\"text-align: right;\">                      1.95061 </td></tr>\n",
       "<tr><td>Antithetic S = 85        </td><td style=\"text-align: right;\"> 2.06311</td><td style=\"text-align: right;\">  20.7261 </td><td style=\"text-align: right;\">                      0.282173</td></tr>\n",
       "<tr><td>Antithetic S = 110       </td><td style=\"text-align: right;\">12.8204 </td><td style=\"text-align: right;\">  68.2296 </td><td style=\"text-align: right;\">                      0.511967</td></tr>\n",
       "<tr><td>Antithetic S = 135       </td><td style=\"text-align: right;\">31.7332 </td><td style=\"text-align: right;\">  60.1902 </td><td style=\"text-align: right;\">                      0.48086 </td></tr>\n",
       "<tr><td>Antithetic S = 160       </td><td style=\"text-align: right;\">54.0094 </td><td style=\"text-align: right;\">  38.9473 </td><td style=\"text-align: right;\">                      0.386807</td></tr>\n",
       "<tr><td>Control Variate 1 S = 85 </td><td style=\"text-align: right;\"> 2.3947 </td><td style=\"text-align: right;\">  26.6587 </td><td style=\"text-align: right;\">                      0.320019</td></tr>\n",
       "<tr><td>Control Variate 1 S = 110</td><td style=\"text-align: right;\">12.6171 </td><td style=\"text-align: right;\">  97.3101 </td><td style=\"text-align: right;\">                      0.611414</td></tr>\n",
       "<tr><td>Control Variate 1 S = 135</td><td style=\"text-align: right;\">32.1611 </td><td style=\"text-align: right;\"> 216.104  </td><td style=\"text-align: right;\">                      0.911144</td></tr>\n",
       "<tr><td>Control Variate 1 S = 160</td><td style=\"text-align: right;\">53.6962 </td><td style=\"text-align: right;\"> 331.444  </td><td style=\"text-align: right;\">                      1.12839 </td></tr>\n",
       "<tr><td>Control Variate 2 S = 85 </td><td style=\"text-align: right;\"> 2.43767</td><td style=\"text-align: right;\">  21.6371 </td><td style=\"text-align: right;\">                      0.288307</td></tr>\n",
       "<tr><td>Control Variate 2 S = 110</td><td style=\"text-align: right;\">12.2192 </td><td style=\"text-align: right;\"> 106.969  </td><td style=\"text-align: right;\">                      0.64104 </td></tr>\n",
       "<tr><td>Control Variate 2 S = 135</td><td style=\"text-align: right;\">32.4008 </td><td style=\"text-align: right;\"> 229.001  </td><td style=\"text-align: right;\">                      0.93794 </td></tr>\n",
       "<tr><td>Control Variate 2 S = 160</td><td style=\"text-align: right;\">54.1617 </td><td style=\"text-align: right;\"> 345.922  </td><td style=\"text-align: right;\">                      1.15278 </td></tr>\n",
       "<tr><td>Control Variate 3 S = 85 </td><td style=\"text-align: right;\"> 2.36075</td><td style=\"text-align: right;\">   3.96639</td><td style=\"text-align: right;\">                      0.123439</td></tr>\n",
       "<tr><td>Control Variate 3 S = 110</td><td style=\"text-align: right;\">12.8016 </td><td style=\"text-align: right;\">  20.661  </td><td style=\"text-align: right;\">                      0.281729</td></tr>\n",
       "<tr><td>Control Variate 3 S = 135</td><td style=\"text-align: right;\">31.7386 </td><td style=\"text-align: right;\">  36.2065 </td><td style=\"text-align: right;\">                      0.372949</td></tr>\n",
       "<tr><td>Control Variate 3 S = 160</td><td style=\"text-align: right;\">53.7234 </td><td style=\"text-align: right;\">  49.2663 </td><td style=\"text-align: right;\">                      0.435042</td></tr>\n",
       "</tbody>\n",
       "</table>"
      ],
      "text/plain": [
       "'<table>\\n<thead>\\n<tr><th>                         </th><th style=\"text-align: right;\">   Price</th><th style=\"text-align: right;\">  Variance</th><th style=\"text-align: right;\">  95% confidence interval (+-)</th></tr>\\n</thead>\\n<tbody>\\n<tr><td>Naive S = 85             </td><td style=\"text-align: right;\"> 2.61839</td><td style=\"text-align: right;\">  53.9613 </td><td style=\"text-align: right;\">                      0.4553  </td></tr>\\n<tr><td>Naive S = 110            </td><td style=\"text-align: right;\">11.6281 </td><td style=\"text-align: right;\"> 279.434  </td><td style=\"text-align: right;\">                      1.03608 </td></tr>\\n<tr><td>Naive S = 135            </td><td style=\"text-align: right;\">31.0698 </td><td style=\"text-align: right;\"> 644.287  </td><td style=\"text-align: right;\">                      1.57324 </td></tr>\\n<tr><td>Naive S = 160            </td><td style=\"text-align: right;\">53.6529 </td><td style=\"text-align: right;\"> 990.441  </td><td style=\"text-align: right;\">                      1.95061 </td></tr>\\n<tr><td>Antithetic S = 85        </td><td style=\"text-align: right;\"> 2.06311</td><td style=\"text-align: right;\">  20.7261 </td><td style=\"text-align: right;\">                      0.282173</td></tr>\\n<tr><td>Antithetic S = 110       </td><td style=\"text-align: right;\">12.8204 </td><td style=\"text-align: right;\">  68.2296 </td><td style=\"text-align: right;\">                      0.511967</td></tr>\\n<tr><td>Antithetic S = 135       </td><td style=\"text-align: right;\">31.7332 </td><td style=\"text-align: right;\">  60.1902 </td><td style=\"text-align: right;\">                      0.48086 </td></tr>\\n<tr><td>Antithetic S = 160       </td><td style=\"text-align: right;\">54.0094 </td><td style=\"text-align: right;\">  38.9473 </td><td style=\"text-align: right;\">                      0.386807</td></tr>\\n<tr><td>Control Variate 1 S = 85 </td><td style=\"text-align: right;\"> 2.3947 </td><td style=\"text-align: right;\">  26.6587 </td><td style=\"text-align: right;\">                      0.320019</td></tr>\\n<tr><td>Control Variate 1 S = 110</td><td style=\"text-align: right;\">12.6171 </td><td style=\"text-align: right;\">  97.3101 </td><td style=\"text-align: right;\">                      0.611414</td></tr>\\n<tr><td>Control Variate 1 S = 135</td><td style=\"text-align: right;\">32.1611 </td><td style=\"text-align: right;\"> 216.104  </td><td style=\"text-align: right;\">                      0.911144</td></tr>\\n<tr><td>Control Variate 1 S = 160</td><td style=\"text-align: right;\">53.6962 </td><td style=\"text-align: right;\"> 331.444  </td><td style=\"text-align: right;\">                      1.12839 </td></tr>\\n<tr><td>Control Variate 2 S = 85 </td><td style=\"text-align: right;\"> 2.43767</td><td style=\"text-align: right;\">  21.6371 </td><td style=\"text-align: right;\">                      0.288307</td></tr>\\n<tr><td>Control Variate 2 S = 110</td><td style=\"text-align: right;\">12.2192 </td><td style=\"text-align: right;\"> 106.969  </td><td style=\"text-align: right;\">                      0.64104 </td></tr>\\n<tr><td>Control Variate 2 S = 135</td><td style=\"text-align: right;\">32.4008 </td><td style=\"text-align: right;\"> 229.001  </td><td style=\"text-align: right;\">                      0.93794 </td></tr>\\n<tr><td>Control Variate 2 S = 160</td><td style=\"text-align: right;\">54.1617 </td><td style=\"text-align: right;\"> 345.922  </td><td style=\"text-align: right;\">                      1.15278 </td></tr>\\n<tr><td>Control Variate 3 S = 85 </td><td style=\"text-align: right;\"> 2.36075</td><td style=\"text-align: right;\">   3.96639</td><td style=\"text-align: right;\">                      0.123439</td></tr>\\n<tr><td>Control Variate 3 S = 110</td><td style=\"text-align: right;\">12.8016 </td><td style=\"text-align: right;\">  20.661  </td><td style=\"text-align: right;\">                      0.281729</td></tr>\\n<tr><td>Control Variate 3 S = 135</td><td style=\"text-align: right;\">31.7386 </td><td style=\"text-align: right;\">  36.2065 </td><td style=\"text-align: right;\">                      0.372949</td></tr>\\n<tr><td>Control Variate 3 S = 160</td><td style=\"text-align: right;\">53.7234 </td><td style=\"text-align: right;\">  49.2663 </td><td style=\"text-align: right;\">                      0.435042</td></tr>\\n</tbody>\\n</table>'"
      ]
     },
     "execution_count": 18,
     "metadata": {},
     "output_type": "execute_result"
    }
   ],
   "source": [
    "# Construct a table of all the prices, variances and confidence intervals obtained\n",
    "\n",
    "data = [[\"Naive S = 85\", SDE_price_1, SDE_var_1, 1.96*SEM_1],\n",
    "       [\"Naive S = 110\", SDE_price_2, SDE_var_2, 1.96*SEM_2],\n",
    "       [\"Naive S = 135\", SDE_price_3, SDE_var_3, 1.96*SEM_3],\n",
    "       [\"Naive S = 160\", SDE_price_4, SDE_var_4, 1.96*SEM_4],\n",
    "       [\"Antithetic S = 85\", SDE_price_ant_1, SDE_var_ant_1, 1.96*SEM_ant_1],\n",
    "       [\"Antithetic S = 110\", SDE_price_ant_2, SDE_var_ant_2, 1.96*SEM_ant_2],\n",
    "       [\"Antithetic S = 135\", SDE_price_ant_3, SDE_var_ant_3, 1.96*SEM_ant_3],\n",
    "       [\"Antithetic S = 160\", SDE_price_ant_4, SDE_var_ant_4, 1.96*SEM_ant_4],\n",
    "       [\"Control Variate 1 S = 85\", SDE_control_1_price_1, SDE_control_1_var_1, 1.96*SEM_cv1_1],\n",
    "       [\"Control Variate 1 S = 110\", SDE_control_1_price_2, SDE_control_1_var_2, 1.96*SEM_cv1_2],\n",
    "       [\"Control Variate 1 S = 135\", SDE_control_1_price_3, SDE_control_1_var_3, 1.96*SEM_cv1_3],\n",
    "       [\"Control Variate 1 S = 160\", SDE_control_1_price_4, SDE_control_1_var_4, 1.96*SEM_cv1_4],\n",
    "       [\"Control Variate 2 S = 85\", SDE_control_2_price_1, SDE_control_2_var_1, 1.96*SEM_cv2_1],\n",
    "       [\"Control Variate 2 S = 110\", SDE_control_2_price_2, SDE_control_2_var_2, 1.96*SEM_cv2_2],\n",
    "       [\"Control Variate 2 S = 135\", SDE_control_2_price_3, SDE_control_2_var_3, 1.96*SEM_cv2_3],\n",
    "       [\"Control Variate 2 S = 160\", SDE_control_2_price_4, SDE_control_2_var_4, 1.96*SEM_cv2_4],\n",
    "       [\"Control Variate 3 S = 85\", SDE_control_3_price_1, SDE_control_3_var_1, 1.96*SEM_cv3_1],\n",
    "       [\"Control Variate 3 S = 110\", SDE_control_3_price_2, SDE_control_3_var_2, 1.96*SEM_cv3_2],\n",
    "       [\"Control Variate 3 S = 135\", SDE_control_3_price_3, SDE_control_3_var_3, 1.96*SEM_cv3_3],\n",
    "       [\"Control Variate 3 S = 160\", SDE_control_3_price_4, SDE_control_3_var_4, 1.96*SEM_cv3_4]]\n",
    "\n",
    "table = tabulate.tabulate(data, headers=[\"Price\", \"Variance\", \"95% confidence interval (+-)\"], tablefmt='html')\n",
    "table"
   ]
  },
  {
   "cell_type": "markdown",
   "id": "ea33f7bc",
   "metadata": {},
   "source": [
    "From this table we deduce that the method using control variate 3 is the most accurate to price an Asian option for an initial spot price below 135 and that the antithetic method is the most accurate to price an Asian option for an initial spot price of higher than 135. In fact the maxiumum variance for the antithetic method seems to be for $S_0 = 110 = K$ while the variance for the method using control variate 3 increases as $S_0$ increases"
   ]
  },
  {
   "cell_type": "code",
   "execution_count": 19,
   "id": "becedc42",
   "metadata": {},
   "outputs": [
    {
     "data": {
      "image/png": "[encoded data removed]",
      "text/plain": [
       "<Figure size 432x288 with 1 Axes>"
      ]
     },
     "metadata": {
      "needs_background": "light"
     },
     "output_type": "display_data"
    }
   ],
   "source": [
    "# Plot graph of time taken to run functions of different methods\n",
    "\n",
    "_, _, Naive_time = SDE_asian_call_vol(110, K, T, r, sigma_0, Npaths)\n",
    "\n",
    "_, _, Ant_time = SDE_asian_call_volant(110,K,T,r,sigma_0,Npaths)\n",
    "\n",
    "_, _, cv1_time = SDE_control_variate_1(110, K, T, r, sigma_0, Npaths)\n",
    "\n",
    "_, _, cv2_time = SDE_control_variate_2(110, K, T, r, sigma_0, Npaths)\n",
    "\n",
    "_, _, cv3_time = SDE_control_variate_3(110, K, T, r, sigma_0, Npaths)\n",
    "\n",
    "\n",
    "names = ['Naive', 'Antithetic', 'CV1', 'CV2', 'CV3']\n",
    "time_results = [Naive_time, Ant_time, cv1_time, cv2_time, cv3_time]\n",
    "\n",
    "fig, ax = plt.subplots()\n",
    "\n",
    "p1 = ax.bar(names, time_results, width=0.4,)\n",
    "\n",
    "ax.bar_label(p1, label_type='center')\n",
    "ax.set_xticks(names)\n",
    "ax.set_xlabel(\"Method\")\n",
    "ax.set_ylabel(\"Time/s\")\n",
    "ax.set_title(\"Comparing Time of Different Methods\")\n",
    "plt.show()"
   ]
  },
  {
   "cell_type": "markdown",
   "id": "53726810",
   "metadata": {},
   "source": [
    "We see that the Naive method is the least computationally complex while the method using control variate 2 is the most computational complex, perhaps due to the fact that we call the Black-Scholes call function in the calculation of the expectation of control variate 2 in the function. We also notice that the method using control variate 3 is very slightly more computationally complex than the antithetic method, but this difference in time is so small that it may as well be ignored and we say that the antithetic method is as computationally complex as the method using control variate 3. Hence we can say that the method for control variate 3 is the most efficient for most spot prices except for ones which are significantly higher than the strike price where we then say that the antithetic method is the most efficient since we want to both minimise variance and the time taken to price the option."
   ]
  },
  {
   "cell_type": "markdown",
   "id": "3ebcf491",
   "metadata": {},
   "source": [
    "# Discussion of results"
   ]
  },
  {
   "cell_type": "markdown",
   "id": "851db26f",
   "metadata": {},
   "source": [
    "The naive method for pricing an option is a simple approach in which the expected value of the option is estimated by calculating its payoffs across a large number of scenarios and then taking the average. The main benefit of the naive method is its simplicity. It is a straightforward approach that is easy to understand and implement which is why it is of such a low computational complexity. However, it is not very accurate as it has the highest variance out of all the methods.\n",
    "\n",
    "The antithetic method is an approach in which two sets of scenarios are generated, one set with positive correlations between the underlying assets and another set with negative correlations. This reduces the impact of randomness on the results, hence reducing the variance of the Monte Carlo estimates and improving the accuracy of the option price. However, it is more computationally complex than the naive method but this is negligible as the time difference is not of significant size.\n",
    "\n",
    "The method of control variates is a method in which the expected value of the option is estimated by using a control variate. This approach reduces the impact of randomness on the results and hence increases the accuracy of the option price. It is more computationally complex than the naive method and it may or may not be more computationally complex than the antithetic method based on the control variate used. The main disadvantage of the method of control variates is that it requires an accurate estimate of the expected value of the control variate. If the control variate's expected value is not accurately estimated, then the accuracy of the option's expected value will be reduced.\n",
    "\n",
    "With all of this in mind, the choice of which option pricing method to use depends on the parameters of the option being priced and the desired level of accuracy. We see that for spot prices significantly higher than the strike price the antithetic method is slightly more accurate and less computationally complex than the method using control variate 3. For most other spot prices however, control variate 3 is significantly more accurate. Therefore, even with considering the additional cost of variance reduction computations, we argue that the method using control variate 3 is the most efficient for this problem as it is the best method to use for most initial values of spot price."
   ]
  },
  {
   "cell_type": "markdown",
   "id": "ebeeccb1",
   "metadata": {},
   "source": [
    "# Plot option price as a function of spot price"
   ]
  },
  {
   "cell_type": "markdown",
   "id": "6e62b586",
   "metadata": {},
   "source": [
    "We plot option price as a function of spot price over the range $S_0 = 10$ to $S_0 = 180$ using the method that gives the smallest variance. Since the smallest variance depends on the size of $S_0$ we shall make two plots to investigate the two methods further."
   ]
  },
  {
   "cell_type": "code",
   "execution_count": 20,
   "id": "c12582fb",
   "metadata": {},
   "outputs": [],
   "source": [
    "#Set parameters\n",
    "\n",
    "S = 110\n",
    "K= 110\n",
    "T=3\n",
    "r=0.05\n",
    "sigma_0=0.2\n",
    "Npaths=1000"
   ]
  },
  {
   "cell_type": "code",
   "execution_count": 21,
   "id": "1d895241",
   "metadata": {},
   "outputs": [
    {
     "data": {
      "image/png": "[encoded data removed]",
      "text/plain": [
       "<Figure size 432x288 with 1 Axes>"
      ]
     },
     "metadata": {
      "needs_background": "light"
     },
     "output_type": "display_data"
    }
   ],
   "source": [
    "# create an array of spot prices S:\n",
    "S_plot = np.arange(10,181,1)\n",
    "\n",
    "# create arrays to store results for plotting\n",
    "Npts = len(S_plot)\n",
    "price_plot = np.zeros(Npts)\n",
    "var_plot = np.zeros(Npts)\n",
    "\n",
    "# price the option at each spot price\n",
    "for k in range(Npts):\n",
    "    price_plot[k], var_plot[k], _ = SDE_control_variate_3(S_plot[k],K,T,r,sigma_0,Npaths)\n",
    "    \n",
    "# plot the 95% confidence interval as a shaded region\n",
    "SEM = np.sqrt(var_plot/Npaths)\n",
    "plt.fill_between(S_plot, price_plot - 1.96*SEM, price_plot + 1.96*SEM, alpha=0.5, color=\"darkorange\")\n",
    "\n",
    "# plot the mean\n",
    "plt.plot(S_plot, price_plot,'-b')\n",
    "\n",
    "plt.xlabel(\"Spot price S\", fontsize=\"14\")\n",
    "plt.ylabel(\"Option Price\", fontsize=\"14\")\n",
    "plt.title(\"Asian call option (CV3)\", fontsize=\"16\")\n",
    "plt.show()"
   ]
  },
  {
   "cell_type": "markdown",
   "id": "276aeed8",
   "metadata": {},
   "source": [
    "The spot price is the current price of the underlying asset. Specifically, if the spot price increases, the option price will generally increase, and if the spot price decreases (unless it is already below 75), the option price will generally decrease as implied from the plot above. This is because options tend to gain value when the underlying asset price increases and lose value when the underlying asset price decreases."
   ]
  },
  {
   "cell_type": "code",
   "execution_count": 22,
   "id": "b1bdd4fd",
   "metadata": {},
   "outputs": [
    {
     "data": {
      "image/png": "[encoded data removed]",
      "text/plain": [
       "<Figure size 432x288 with 1 Axes>"
      ]
     },
     "metadata": {
      "needs_background": "light"
     },
     "output_type": "display_data"
    }
   ],
   "source": [
    "#price the option at each spot price\n",
    "for k in range(Npts):\n",
    "    price_plot[k], var_plot[k], _ = SDE_asian_call_volant(S_plot[k],K,T,r,sigma_0,Npaths)\n",
    "    \n",
    "# plot the 95% confidence interval as a shaded region\n",
    "SEM = np.sqrt(var_plot/Npaths)\n",
    "plt.fill_between(S_plot, price_plot - 1.96*SEM, price_plot + 1.96*SEM, alpha=0.5, color=\"darkorange\")\n",
    "\n",
    "# plot the mean\n",
    "plt.plot(S_plot, price_plot,'-b')\n",
    "\n",
    "plt.xlabel(\"Spot price S\", fontsize=\"14\")\n",
    "plt.ylabel(\"Option Price\", fontsize=\"14\")\n",
    "plt.title(\"Asian call option (Antithetic method)\", fontsize=\"16\")\n",
    "plt.show()"
   ]
  },
  {
   "cell_type": "markdown",
   "id": "98627e55",
   "metadata": {},
   "source": [
    "We notice that the curve for the antithetic method is less smooth than that for the method using control variate 3 so we can argue that the method using control variate 3 is most accurate overall. This furthermore shows that control variate 3 is the most efficient for this problem."
   ]
  },
  {
   "cell_type": "markdown",
   "id": "08746eff",
   "metadata": {},
   "source": [
    "We will now investigate the effect of different times to maturity on the option price of an Asian call option:"
   ]
  },
  {
   "cell_type": "code",
   "execution_count": 23,
   "id": "8e544c72",
   "metadata": {},
   "outputs": [
    {
     "data": {
      "image/png": "[encoded data removed]",
      "text/plain": [
       "<Figure size 432x288 with 1 Axes>"
      ]
     },
     "metadata": {
      "needs_background": "light"
     },
     "output_type": "display_data"
    }
   ],
   "source": [
    "# create array of times and to store results for plotting\n",
    "T_plot = np.arange(0.5,3.5,0.5)\n",
    "price = np.zeros((len(S_plot), len(T_plot)))\n",
    "\n",
    "# price the option at each spot price and time using a nested for loop\n",
    "for i in range(len(T_plot)):\n",
    "    for j in range(len(S_plot)):\n",
    "        price[j][i], _, _ = SDE_control_variate_3(S_plot[j], K, T_plot[i], r, sigma_0, Npaths)\n",
    "\n",
    "#plot the mean        \n",
    "for i in range(len(T_plot)):\n",
    "    plt.plot(S_plot,  price[:,i])\n",
    "    \n",
    "plt.xlabel(\"Spot Price\")\n",
    "plt.ylabel(\"Option Price\")\n",
    "plt.legend([\"0.5 years\", \"1 year\", \"1.5 years\", \"2 years\", \"2.5 years\", \"3 years\"])\n",
    "plt.title(\"Asian call option for various T\")\n",
    "plt.show()"
   ]
  },
  {
   "cell_type": "markdown",
   "id": "3ad957b8",
   "metadata": {},
   "source": [
    "We also see that as the time to maturity increases the option price increases for an Asian option at a range of spot prices from 80 to 130 showcasing a lower gradient for high T but outside of that range the option price is relatively equal. Hence, as the time to maturity decreases, the option price will become more sensitive to changes in the underlying spot price, and vice versa. This is because an option has a limited amount of time to realize its payoff, and as the time to maturity approaches, the option price will become increasingly sensitive to changes in the underlying spot price."
   ]
  },
  {
   "cell_type": "markdown",
   "id": "e84a1016",
   "metadata": {},
   "source": [
    "Let us compare Asian option prices with their European counterparts: "
   ]
  },
  {
   "cell_type": "code",
   "execution_count": 24,
   "id": "ba2571d6",
   "metadata": {},
   "outputs": [],
   "source": [
    "def MC_euro_call_ant(S, K, T, r, sigma, N):\n",
    "    \n",
    "    # Compute European call option price using antithetic variance reduction\n",
    "    \n",
    "    # Set parameters\n",
    "    S0 = S\n",
    "    \n",
    "    X = rng.normal(0,1,N)\n",
    "    STp = S0*np.exp((r-0.5*sigma**2)*T+sigma*np.sqrt(T)*X)\n",
    "    STm = S0*np.exp((r-0.5*sigma**2)*T-sigma*np.sqrt(T)*X)\n",
    "    fSTp = np.exp(-r*T)*np.maximum(STp-K,0)\n",
    "    fSTm = np.exp(-r*T)*np.maximum(STm-K,0)\n",
    "    Z = (fSTp+fSTm)/2.\n",
    "    \n",
    "    price = np.mean(Z)\n",
    "    variance = np.var(Z)\n",
    "    return price, variance"
   ]
  },
  {
   "cell_type": "code",
   "execution_count": 25,
   "id": "1f1da93e",
   "metadata": {},
   "outputs": [
    {
     "data": {
      "image/png": "[encoded data removed]",
      "text/plain": [
       "<Figure size 432x288 with 1 Axes>"
      ]
     },
     "metadata": {
      "needs_background": "light"
     },
     "output_type": "display_data"
    }
   ],
   "source": [
    "# price the option at each spot price\n",
    "for k in range(Npts):\n",
    "    price_plot[k], var_plot[k] = MC_euro_call_ant(S_plot[k],K,T,r,sigma_0,Npaths)\n",
    "    \n",
    "# plot the 95% confidence interval as a shaded region\n",
    "SEM = np.sqrt(var_plot/Npaths)\n",
    "plt.fill_between(S_plot, price_plot - 1.96*SEM, price_plot + 1.96*SEM, alpha=0.5, color=\"darkorange\")\n",
    "\n",
    "# plot the mean\n",
    "plt.plot(S_plot, price_plot,'-b')\n",
    "\n",
    "plt.xlabel(\"Spot price S\", fontsize=\"14\")\n",
    "plt.ylabel(\"Option Price\", fontsize=\"14\")\n",
    "plt.title(\"European call option\", fontsize=\"16\")\n",
    "plt.show()"
   ]
  },
  {
   "cell_type": "markdown",
   "id": "66735889",
   "metadata": {},
   "source": [
    "Comparing the graphs of the Asian call option and the European call option we see that the option price of a European call option starts to increase at a lower spot price of around 50 than that of the Asian call option which seems to be around 75. We also see that the option price of a European call option reaches 80 at a spot price of 180 which is higher than that of an Asian call option. "
   ]
  },
  {
   "cell_type": "markdown",
   "id": "8d14e79e",
   "metadata": {},
   "source": [
    "# Computation of the delta for the Asian option"
   ]
  },
  {
   "cell_type": "markdown",
   "id": "94a1e551",
   "metadata": {},
   "source": [
    "We choose the pathwise method of computing the delta for an Asian option. This is a numerical approach that uses Monte Carlo simulation to estimate the change in the price of the option as the underlying asset price changes. In this approach, the price of the option is simulated for different underlying asset prices, and the delta is estimated as the difference in the option price across these prices. This approach is relatively simple to implement and can be applied to any type of option. However, it is computationally intensive and may not be accurate for options with a complex underlying asset price distribution.\n",
    "\n",
    "A pathwise delta is a numerical measure that shows how much the price of an option will change in response to a change in the underlying spot price. If the delta is positive, then the option price will increase as the spot price increases, and if the delta is negative, then the option price will decrease as the spot price increases. The delta is typically expressed as a percentage, with a positive delta indicating that the option price will increase by that percentage if the spot price increases by 1%."
   ]
  },
  {
   "cell_type": "code",
   "execution_count": 26,
   "id": "3bbe4188",
   "metadata": {},
   "outputs": [],
   "source": [
    "# Simulate GBM and compute the delta using the pathwise method\n",
    "def SDE_asian_call_delta(S0, K, T, r, sigma_0, Npaths):\n",
    "\n",
    "    t, S, Z = SDE_control_timestepper(S0, T, r, sigma_0, Npaths)\n",
    "    \n",
    "    D = np.exp(-r*T)*(S[-1,:]/S[0,:])*np.heaviside(np.mean(S, axis=0) - K, 0)\n",
    "    \n",
    "    delta = np.mean(D)\n",
    "    variance = np.var(D)\n",
    "    return delta, variance"
   ]
  },
  {
   "cell_type": "code",
   "execution_count": 27,
   "id": "3547ad56",
   "metadata": {},
   "outputs": [],
   "source": [
    "#Set parameters\n",
    "\n",
    "S = 110\n",
    "K= 110\n",
    "T=3\n",
    "r=0.05\n",
    "sigma_0=0.2\n",
    "Npaths=1000"
   ]
  },
  {
   "cell_type": "code",
   "execution_count": 28,
   "id": "3ef56d6a",
   "metadata": {},
   "outputs": [
    {
     "data": {
      "image/png": "[encoded data removed]",
      "text/plain": [
       "<Figure size 432x288 with 1 Axes>"
      ]
     },
     "metadata": {
      "needs_background": "light"
     },
     "output_type": "display_data"
    }
   ],
   "source": [
    "# create an array of spot prices S:\n",
    "S_plot = np.arange(10,181,1)\n",
    "\n",
    "# create arrays to store results for plotting\n",
    "Npts = len(S_plot)\n",
    "delta_plot = np.zeros(Npts)\n",
    "var_plot = np.zeros(Npts)\n",
    "\n",
    "# price the option at each spot price\n",
    "for k in range(Npts):\n",
    "    delta_plot[k], var_plot[k] = SDE_asian_call_delta(S_plot[k],K,T,r,sigma_0,Npaths)\n",
    "    \n",
    "# plot the 95% confidence interval as a shaded region\n",
    "SEM = np.sqrt(var_plot/Npaths)\n",
    "plt.fill_between(S_plot, delta_plot - 1.96*SEM, delta_plot + 1.96*SEM, alpha=0.5, color=\"darkorange\")\n",
    "\n",
    "# plot the mean\n",
    "plt.plot(S_plot, delta_plot,'-b')\n",
    "\n",
    "plt.xlabel(\"Spot price S\", fontsize=\"14\")\n",
    "plt.ylabel(\"Delta\", fontsize=\"14\")\n",
    "plt.title(\"Asian call delta\", fontsize=\"16\")\n",
    "plt.show()"
   ]
  },
  {
   "cell_type": "markdown",
   "id": "81779287",
   "metadata": {},
   "source": [
    "Delta is a measure of how the price of a derivative changes in response to moves in the price of the underlying asset and so we can see that graphically it is similar to the gradient of the option price as a function of the spot price."
   ]
  },
  {
   "cell_type": "code",
   "execution_count": 29,
   "id": "7fdf1eb5",
   "metadata": {},
   "outputs": [
    {
     "data": {
      "image/png": "[encoded data removed]",
      "text/plain": [
       "<Figure size 432x288 with 1 Axes>"
      ]
     },
     "metadata": {
      "needs_background": "light"
     },
     "output_type": "display_data"
    }
   ],
   "source": [
    "# create array of times and to store results for plotting\n",
    "T_plot = np.arange(0,3.5,0.5)\n",
    "delta = np.zeros((len(S_plot), len(T_plot)))\n",
    "\n",
    "# price the option at each spot price and time using a nested for loop\n",
    "for i in range(len(T_plot)):\n",
    "    for j in range(len(S_plot)):\n",
    "        delta[j][i], _ = SDE_asian_call_delta(S_plot[j], K, T_plot[i], r, sigma_0, Npaths)\n",
    "        \n",
    "#plot the mean\n",
    "for i in range(len(T_plot)):\n",
    "    plt.plot(S_plot,  delta[:,i])\n",
    "    \n",
    "plt.xlabel(\"Spot Price\")\n",
    "plt.ylabel(\"Asian Call Delta\")\n",
    "plt.legend([\"0 years\", \"0.5 years\", \"1 year\", \"1.5 years\", \"2 years\", \"2.5 years\", \"3 years\"])\n",
    "plt.title(\"Asian call delta for various T\")\n",
    "plt.show()"
   ]
  },
  {
   "cell_type": "markdown",
   "id": "74e30ade",
   "metadata": {},
   "source": [
    "Here we yet again see a steeper gradient at lower times to maturity within the range of 80 to 130 for the spot price. This is again because an option has a limited amount of time to realize its payoff, and as the time to maturity approaches, the delta will become increasingly sensitive to changes in the underlying spot price."
   ]
  },
  {
   "cell_type": "markdown",
   "id": "60943947",
   "metadata": {},
   "source": [
    "We now want to compare the Asian call delta to the European call delta and analyze the similarities and/or dissimilarities"
   ]
  },
  {
   "cell_type": "code",
   "execution_count": 30,
   "id": "1f1f6777",
   "metadata": {},
   "outputs": [],
   "source": [
    "def MC_euro_call_delta_pathwise(S, K, T, r, sigma, N):\n",
    "\n",
    "    # Set parameters\n",
    "    S0 = S\n",
    "    \n",
    "    X = rng.normal(0,1,N)\n",
    "    ST = S0*np.exp((r-0.5*sigma**2)*T+sigma*np.sqrt(T)*X)\n",
    "    Z = np.exp(-r*T)*(ST/S0)*np.heaviside(ST-K,0.5)\n",
    "    \n",
    "    delta = np.mean(Z)\n",
    "    variance = np.var(Z)\n",
    "    return delta, variance"
   ]
  },
  {
   "cell_type": "code",
   "execution_count": 31,
   "id": "7b0ee4f6",
   "metadata": {},
   "outputs": [
    {
     "data": {
      "image/png": "[encoded data removed]",
      "text/plain": [
       "<Figure size 432x288 with 1 Axes>"
      ]
     },
     "metadata": {
      "needs_background": "light"
     },
     "output_type": "display_data"
    }
   ],
   "source": [
    "# create an array of spot prices S:\n",
    "S_plot = np.arange(10,181,1)\n",
    "\n",
    "# create arrays to store results for plotting\n",
    "Npts = len(S_plot)\n",
    "delta_plot = np.zeros(Npts)\n",
    "var_plot = np.zeros(Npts)\n",
    "\n",
    "# price the option at each spot price\n",
    "for k in range(Npts):\n",
    "    delta_plot[k], var_plot[k] = MC_euro_call_delta_pathwise(S_plot[k],K,T,r,sigma_0,Npaths)\n",
    "    \n",
    "# plot the 95% confidence interval as a shaded region\n",
    "SEM = np.sqrt(var_plot/Npaths)\n",
    "plt.fill_between(S_plot, delta_plot - 1.96*SEM, delta_plot + 1.96*SEM, alpha=0.5, color=\"darkorange\")\n",
    "\n",
    "# plot the mean\n",
    "plt.plot(S_plot, delta_plot,'-b')\n",
    "\n",
    "plt.xlabel(\"Spot price S\", fontsize=\"14\")\n",
    "plt.ylabel(\"Delta\", fontsize=\"14\")\n",
    "plt.title(\"European call delta\", fontsize=\"16\")\n",
    "plt.show()"
   ]
  },
  {
   "cell_type": "markdown",
   "id": "afb0a6f6",
   "metadata": {},
   "source": [
    "Foremost, we notice that the function of the Asian call delta against spot price has a steeper gradient than that of the European call delta at spot prices from 75 to 130 at maturity. This means that the delta of an Asian call option is generally more sensitive to changes in the underlying spot price than the delta of a European call option."
   ]
  },
  {
   "cell_type": "markdown",
   "id": "8352fea2",
   "metadata": {},
   "source": [
    "# Conclusions"
   ]
  },
  {
   "cell_type": "markdown",
   "id": "b7029594",
   "metadata": {},
   "source": [
    "In this notebook we have investigated the effects of various methods on the pricing of a Fixed Strike Asian Call Option with Discrete Arithmetic Average. We see that overall, the method using control variate 3 for the most part is the most efficient for pricing an Asian option for most parameters. The computational complexity of this method is negligible as the difference in time taken between this method and the naive method which was the shortest time taken was 0.02 seconds.\n",
    "\n",
    "We also saw the effect the time to maturity has on the option price and delta of the Asian call option as the lower the time to maturity the higher the gradient for both option price and delta of an Asian call option as a function of spot price. \n",
    "\n",
    "We also noted that by a comparison of prices and deltas of an Asian call option and its European counterpart that an Asian call option is generally more sensitive to changes in the spot price."
   ]
  }
 ],
 "metadata": {
  "kernelspec": {
   "display_name": "Python 3 (ipykernel)",
   "language": "python",
   "name": "python3"
  },
  "language_info": {
   "codemirror_mode": {
    "name": "ipython",
    "version": 3
   },
   "file_extension": ".py",
   "mimetype": "text/x-python",
   "name": "python",
   "nbconvert_exporter": "python",
   "pygments_lexer": "ipython3",
   "version": "3.9.12"
  }
 },
 "nbformat": 4,
 "nbformat_minor": 5
}
